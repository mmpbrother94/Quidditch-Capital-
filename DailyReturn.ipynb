{
 "cells": [
  {
   "cell_type": "code",
   "execution_count": 1,
   "metadata": {},
   "outputs": [
    {
     "name": "stdout",
     "output_type": "stream",
     "text": [
      "                TSLA      AAPL\n",
      "date                          \n",
      "2025-03-27  0.036350  0.027306\n",
      "2025-03-26 -0.003918 -0.010364\n",
      "2025-03-25  0.059105  0.010021\n",
      "2025-03-24 -0.033838 -0.013497\n",
      "2025-03-21 -0.106613 -0.011145\n"
     ]
    }
   ],
   "source": [
    "import pandas as pd\n",
    "\n",
    "# Load the stock data\n",
    "df = pd.read_csv(\"stock_data.csv\", index_col=\"date\", parse_dates=True)\n",
    "\n",
    "# Calculate daily returns\n",
    "returns = df.pct_change().dropna()  # Percentage change, remove NaN\n",
    "print(returns.head())\n"
   ]
  },
  {
   "cell_type": "code",
   "execution_count": 2,
   "metadata": {},
   "outputs": [],
   "source": [
    "# Define portfolio weights (adjustable)\n",
    "weights = [0.6, 0.4]  # TSLA 60%, AAPL 40%\n"
   ]
  },
  {
   "cell_type": "code",
   "execution_count": 3,
   "metadata": {},
   "outputs": [
    {
     "name": "stdout",
     "output_type": "stream",
     "text": [
      "Portfolio Volatility (Risk Score): 0.0344\n"
     ]
    }
   ],
   "source": [
    "import numpy as np\n",
    "\n",
    "# Calculate standard deviation (volatility) of individual stocks\n",
    "stock_volatility = returns.std()\n",
    "\n",
    "# Portfolio Volatility = Weighted sum of individual volatilities\n",
    "portfolio_volatility = np.dot(stock_volatility, weights)\n",
    "\n",
    "print(f\"Portfolio Volatility (Risk Score): {portfolio_volatility:.4f}\")\n"
   ]
  },
  {
   "cell_type": "markdown",
   "metadata": {},
   "source": [
    "SharpeRatio= Mean Return / Portfolio Volatility\n",
    "​\n",
    " \n",
    "\n"
   ]
  },
  {
   "cell_type": "code",
   "execution_count": 4,
   "metadata": {},
   "outputs": [
    {
     "name": "stdout",
     "output_type": "stream",
     "text": [
      "Sharpe Ratio: 0.0106\n"
     ]
    }
   ],
   "source": [
    "# Risk-free rate (assuming 2% annual return, convert to daily)\n",
    "risk_free_rate = 0.02 / 252  \n",
    "\n",
    "# Calculate mean portfolio return\n",
    "mean_return = np.dot(returns.mean(), weights)\n",
    "\n",
    "# Calculate Sharpe Ratio\n",
    "sharpe_ratio = (mean_return - risk_free_rate) / portfolio_volatility\n",
    "\n",
    "print(f\"Sharpe Ratio: {sharpe_ratio:.4f}\")\n"
   ]
  },
  {
   "cell_type": "code",
   "execution_count": null,
   "metadata": {},
   "outputs": [],
   "source": []
  }
 ],
 "metadata": {
  "kernelspec": {
   "display_name": "Python 3",
   "language": "python",
   "name": "python3"
  },
  "language_info": {
   "codemirror_mode": {
    "name": "ipython",
    "version": 3
   },
   "file_extension": ".py",
   "mimetype": "text/x-python",
   "name": "python",
   "nbconvert_exporter": "python",
   "pygments_lexer": "ipython3",
   "version": "3.12.1"
  }
 },
 "nbformat": 4,
 "nbformat_minor": 2
}
