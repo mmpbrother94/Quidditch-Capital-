{
 "cells": [
  {
   "cell_type": "code",
   "execution_count": null,
   "metadata": {},
   "outputs": [
    {
     "ename": "ModuleNotFoundError",
     "evalue": "No module named 'tensorflow'",
     "output_type": "error",
     "traceback": [
      "\u001b[31m---------------------------------------------------------------------------\u001b[39m",
      "\u001b[31mModuleNotFoundError\u001b[39m                       Traceback (most recent call last)",
      "\u001b[36mCell\u001b[39m\u001b[36m \u001b[39m\u001b[32mIn[1]\u001b[39m\u001b[32m, line 6\u001b[39m\n\u001b[32m      4\u001b[39m \u001b[38;5;28;01mimport\u001b[39;00m\u001b[38;5;250m \u001b[39m\u001b[34;01mmatplotlib\u001b[39;00m\u001b[34;01m.\u001b[39;00m\u001b[34;01mpyplot\u001b[39;00m\u001b[38;5;250m \u001b[39m\u001b[38;5;28;01mas\u001b[39;00m\u001b[38;5;250m \u001b[39m\u001b[34;01mplt\u001b[39;00m\n\u001b[32m      5\u001b[39m \u001b[38;5;28;01mfrom\u001b[39;00m\u001b[38;5;250m \u001b[39m\u001b[34;01msklearn\u001b[39;00m\u001b[34;01m.\u001b[39;00m\u001b[34;01mpreprocessing\u001b[39;00m\u001b[38;5;250m \u001b[39m\u001b[38;5;28;01mimport\u001b[39;00m MinMaxScaler\n\u001b[32m----> \u001b[39m\u001b[32m6\u001b[39m \u001b[38;5;28;01mfrom\u001b[39;00m\u001b[38;5;250m \u001b[39m\u001b[34;01mtensorflow\u001b[39;00m\u001b[34;01m.\u001b[39;00m\u001b[34;01mkeras\u001b[39;00m\u001b[34;01m.\u001b[39;00m\u001b[34;01mmodels\u001b[39;00m\u001b[38;5;250m \u001b[39m\u001b[38;5;28;01mimport\u001b[39;00m Sequential\n\u001b[32m      7\u001b[39m \u001b[38;5;28;01mfrom\u001b[39;00m\u001b[38;5;250m \u001b[39m\u001b[34;01mtensorflow\u001b[39;00m\u001b[34;01m.\u001b[39;00m\u001b[34;01mkeras\u001b[39;00m\u001b[34;01m.\u001b[39;00m\u001b[34;01mlayers\u001b[39;00m\u001b[38;5;250m \u001b[39m\u001b[38;5;28;01mimport\u001b[39;00m LSTM, Dense, Dropout\n",
      "\u001b[31mModuleNotFoundError\u001b[39m: No module named 'tensorflow'"
     ]
    }
   ],
   "source": [
    "import numpy as np\n",
    "import pandas as pd\n",
    "import yfinance as yf\n",
    "import matplotlib.pyplot as plt\n",
    "import seaborn as sns\n",
    "from sklearn.preprocessing import MinMaxScaler\n",
    "from tensorflow.keras.models import Sequential\n",
    "from tensorflow.keras.layers import LSTM, Dense, Dropout\n"
   ]
  },
  {
   "cell_type": "code",
   "execution_count": null,
   "metadata": {},
   "outputs": [],
   "source": [
    "# Define Quidditch team stock mapping\n",
    "teams = {\n",
    "    \"Gryffindor\": \"TSLA\",\n",
    "    \"Slytherin\": \"AAPL\",\n",
    "    \"Ravenclaw\": \"MSFT\",\n",
    "    \"Hufflepuff\": \"AMZN\"\n",
    "}\n",
    "\n",
    "def fetch_stock_data(team_name, start_date=\"2023-01-01\", end_date=\"2025-03-28\"):\n",
    "    stock_symbol = teams[team_name]\n",
    "    stock_data = yf.download(stock_symbol, start=start_date, end=end_date)\n",
    "    return stock_data[['Close']]  # We only need the closing prices\n",
    "\n",
    "# Example usage\n",
    "gryffindor_data = fetch_stock_data(\"Gryffindor\")\n",
    "gryffindor_data.tail()\n",
    "\n"
   ]
  },
  {
   "cell_type": "code",
   "execution_count": null,
   "metadata": {},
   "outputs": [],
   "source": [
    "def preprocess_data(stock_data, sequence_length=10):\n",
    "    scaler = MinMaxScaler(feature_range=(0, 1))\n",
    "    scaled_data = scaler.fit_transform(stock_data)\n",
    "\n",
    "    X, y = [], []\n",
    "    for i in range(len(scaled_data) - sequence_length):\n",
    "        X.append(scaled_data[i:i + sequence_length])\n",
    "        y.append(scaled_data[i + sequence_length])\n",
    "\n",
    "    X, y = np.array(X), np.array(y)\n",
    "    return X, y, scaler\n",
    "\n",
    "# Example usage\n",
    "X, y, scaler = preprocess_data(gryffindor_data)\n"
   ]
  },
  {
   "cell_type": "code",
   "execution_count": null,
   "metadata": {},
   "outputs": [],
   "source": [
    "def build_lstm_model(input_shape):\n",
    "    model = Sequential([\n",
    "        LSTM(50, return_sequences=True, input_shape=input_shape),\n",
    "        Dropout(0.2),\n",
    "        LSTM(50, return_sequences=False),\n",
    "        Dropout(0.2),\n",
    "        Dense(1)\n",
    "    ])\n",
    "    model.compile(optimizer='adam', loss='mean_squared_error')\n",
    "    return model\n",
    "\n",
    "# Create model\n",
    "model = build_lstm_model((10, 1))\n"
   ]
  },
  {
   "cell_type": "code",
   "execution_count": null,
   "metadata": {},
   "outputs": [],
   "source": [
    "# Split Data into Train and Test Sets\n",
    "split = int(len(X) * 0.8)\n",
    "X_train, X_test, y_train, y_test = X[:split], X[split:], y[:split], y[split:]\n",
    "\n",
    "# Train Model\n",
    "model.fit(X_train, y_train, epochs=20, batch_size=16, validation_data=(X_test, y_test))\n"
   ]
  },
  {
   "cell_type": "code",
   "execution_count": null,
   "metadata": {},
   "outputs": [],
   "source": [
    "# Predict\n",
    "predictions = model.predict(X_test)\n",
    "predictions = scaler.inverse_transform(predictions)  # Convert back to original price scale\n",
    "actual_prices = scaler.inverse_transform(y_test.reshape(-1, 1))\n",
    "\n",
    "# Plot Results\n",
    "plt.figure(figsize=(12,6))\n",
    "plt.plot(actual_prices, label=\"Actual Seeker Path (Stock Price)\")\n",
    "plt.plot(predictions, label=\"Predicted Seeker Path\", linestyle=\"dashed\")\n",
    "plt.title(\"Seeker Trajectory Prediction (Portfolio Risk)\")\n",
    "plt.xlabel(\"Time\")\n",
    "plt.ylabel(\"Stock Price\")\n",
    "plt.legend()\n",
    "plt.show()\n"
   ]
  },
  {
   "cell_type": "code",
   "execution_count": null,
   "metadata": {},
   "outputs": [],
   "source": [
    "def calculate_risk_level(actual_prices, predictions, risk_tolerance):\n",
    "    # Calculate Volatility\n",
    "    daily_returns = np.diff(actual_prices, axis=0) / actual_prices[:-1]\n",
    "    volatility = np.std(daily_returns)\n",
    "\n",
    "    # Set Risk Labels\n",
    "    if volatility > 0.03:\n",
    "        risk_level = \"High Risk (Unstable Seeker)\"\n",
    "    elif volatility > 0.015:\n",
    "        risk_level = \"Medium Risk (Balanced Seeker)\"\n",
    "    else:\n",
    "        risk_level = \"Low Risk (Stable Seeker)\"\n",
    "\n",
    "    # Decision Suggestion Based on Risk Tolerance\n",
    "    decision = {\n",
    "        \"Low\": \"Safe Move (Defensive Strategy)\",\n",
    "        \"Medium\": \"Moderate Move (Balanced Strategy)\",\n",
    "        \"High\": \"Risky Move (Aggressive Trading)\"\n",
    "    }[risk_tolerance]\n",
    "\n",
    "    return risk_level, volatility, decision\n",
    "\n",
    "# Example Usage\n",
    "risk_level, volatility, decision = calculate_risk_level(actual_prices, predictions, \"Medium\")\n",
    "print(f\"Risk Level: {risk_level}\")\n",
    "print(f\"Volatility Score: {volatility:.4f}\")\n",
    "print(f\"Suggested Decision: {decision}\")\n"
   ]
  },
  {
   "cell_type": "code",
   "execution_count": null,
   "metadata": {},
   "outputs": [],
   "source": [
    "# Visualization\n",
    "plt.figure(figsize=(10, 5))\n",
    "for idx, team in enumerate(teams.keys()):\n",
    "    plt.plot(stock_df.index[-30:], stock_df[team][-30:], label=f\"{team} Actual\", linestyle='dotted')\n",
    "    plt.scatter(stock_df.index[-1], predicted_prices[0][idx], label=f\"{team} Prediction\", marker='x')\n",
    "plt.legend()\n",
    "plt.title(\"Seeker Trajectory Prediction (Stock Trends)\")\n",
    "plt.xlabel(\"Date\")\n",
    "plt.ylabel(\"Stock Price ($)\")\n",
    "plt.show()\n",
    "print(\"LSTM Model trained and predictions visualized.\")"
   ]
  },
  {
   "cell_type": "code",
   "execution_count": null,
   "metadata": {},
   "outputs": [],
   "source": [
    "model.save(\"lstm_stock_model.h5\")\n"
   ]
  },
  {
   "cell_type": "code",
   "execution_count": null,
   "metadata": {},
   "outputs": [],
   "source": [
    "model = load_model(\"lstm_stock_model.h5\")"
   ]
  },
  {
   "cell_type": "code",
   "execution_count": null,
   "metadata": {},
   "outputs": [],
   "source": [
    "\n",
    "\n",
    "# Mapping Quidditch Teams to Stock Symbols\n",
    "teams = {\n",
    "    \"Gryffindor\": \"TSLA\",\n",
    "    \"Slytherin\": \"AAPL\",\n",
    "    \"Ravenclaw\": \"MSFT\",\n",
    "    \"Hufflepuff\": \"AMZN\"\n",
    "}\n",
    "\n",
    "# User Input\n",
    "team_name = input(\"Enter Quidditch Team (Gryffindor/Slytherin/Ravenclaw/Hufflepuff): \")\n",
    "risk_tolerance = input(\"Enter Risk Tolerance (Low/Medium/High): \")\n",
    "time_frame = input(\"Enter Time Frame (Short-Term/Medium-Term/Long-Term): \")\n",
    "\n",
    "# Fetch Stock Data\n",
    "stock_symbol = teams.get(team_name, \"TSLA\")  # Default to TSLA if invalid\n",
    "data = yf.download(stock_symbol, period=\"2y\")  # Fetch last 2 years of data\n",
    "prices = data[['Close']]\n",
    "\n",
    "# Scale Data\n",
    "scaler = MinMaxScaler(feature_range=(0,1))\n",
    "scaled_prices = scaler.fit_transform(prices)\n",
    "\n",
    "# Get Last 10 Days for Prediction\n",
    "X_test = np.array([scaled_prices[-10:]])  # Last 10 days data as input\n",
    "\n",
    "# Predict\n",
    "predicted_price = model.predict(X_test)\n",
    "predicted_price = scaler.inverse_transform(predicted_price)[0][0]  # Convert back to actual price\n",
    "\n",
    "# Output Prediction\n",
    "print(f\"\\n Predicted Seeker Path (Stock Price) for {team_name}: ${predicted_price:.2f}\")\n",
    "\n",
    "# Risk Analysis Logic\n",
    "if risk_tolerance.lower() == \"low\":\n",
    "    decision = \"Safe Move (Defensive Strategy)\"\n",
    "elif risk_tolerance.lower() == \"medium\":\n",
    "    decision = \"Moderate Move (Balanced Strategy)\"\n",
    "else:\n",
    "    decision = \"Risky Move (Aggressive Trading)\"\n",
    "\n",
    "print(f\"Suggested Strategy: {decision}\")\n"
   ]
  }
 ],
 "metadata": {
  "kernelspec": {
   "display_name": "Python 3",
   "language": "python",
   "name": "python3"
  },
  "language_info": {
   "codemirror_mode": {
    "name": "ipython",
    "version": 3
   },
   "file_extension": ".py",
   "mimetype": "text/x-python",
   "name": "python",
   "nbconvert_exporter": "python",
   "pygments_lexer": "ipython3",
   "version": "3.13.1"
  }
 },
 "nbformat": 4,
 "nbformat_minor": 2
}
